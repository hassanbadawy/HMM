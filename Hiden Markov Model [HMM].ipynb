{
 "cells": [
  {
   "cell_type": "code",
   "execution_count": 66,
   "metadata": {
    "ExecuteTime": {
     "end_time": "2019-01-15T10:21:52.175602Z",
     "start_time": "2019-01-15T10:21:52.172602Z"
    }
   },
   "outputs": [],
   "source": [
    "from __future__ import division\n",
    "import ipdb\n",
    "import numpy as np"
   ]
  },
  {
   "cell_type": "markdown",
   "metadata": {
    "ExecuteTime": {
     "end_time": "2019-01-14T16:31:17.891052Z",
     "start_time": "2019-01-14T16:31:17.884058Z"
    }
   },
   "source": [
    "<img src=\"https://github.com/hassanbadawy/HMM/blob/master/hmm1.png?raw=true\">"
   ]
  },
  {
   "cell_type": "markdown",
   "metadata": {
    "ExecuteTime": {
     "end_time": "2019-01-15T10:14:38.612043Z",
     "start_time": "2019-01-15T10:14:38.607037Z"
    }
   },
   "source": [
    "<img src= \"hmm2.PNG\">"
   ]
  },
  {
   "cell_type": "code",
   "execution_count": 67,
   "metadata": {
    "ExecuteTime": {
     "end_time": "2019-01-15T10:21:52.194594Z",
     "start_time": "2019-01-15T10:21:52.178602Z"
    }
   },
   "outputs": [],
   "source": [
    "# Emission Probabilities\n",
    "# H: Happy, G: Grumpy\n",
    "E0 = {'H': 0.8, 'G': 0.2}\n",
    "E1 = {'H': 0.4, 'G': 0.6}\n",
    "\n",
    "# States\n",
    "# S: Sunny, R: Rainy\n",
    "S = {'S': E0, 'R': E1}\n",
    "\n",
    "# Initial Probabilities\n",
    "initial_states = {'S': 2/3, 'R': 1/3}\n",
    "\n",
    "# Transition Probabilities\n",
    "# states that leads to S state\n",
    "TS = {'S': 0.8 , 'R': 0.4}\n",
    "# states that leads to R state\n",
    "TR = {'S': 0.2 , 'R': 0.6}\n",
    "# Transition dic\n",
    "T = {'S': TS, 'R': TR}"
   ]
  },
  {
   "cell_type": "code",
   "execution_count": 68,
   "metadata": {
    "ExecuteTime": {
     "end_time": "2019-01-15T10:21:52.208595Z",
     "start_time": "2019-01-15T10:21:52.198595Z"
    }
   },
   "outputs": [
    {
     "data": {
      "text/plain": [
       "{'S': {'H': 0.8, 'G': 0.2}, 'R': {'H': 0.4, 'G': 0.6}}"
      ]
     },
     "execution_count": 68,
     "metadata": {},
     "output_type": "execute_result"
    }
   ],
   "source": [
    "# show States with emissions\n",
    "S"
   ]
  },
  {
   "cell_type": "code",
   "execution_count": 69,
   "metadata": {
    "ExecuteTime": {
     "end_time": "2019-01-15T10:21:52.223597Z",
     "start_time": "2019-01-15T10:21:52.212595Z"
    }
   },
   "outputs": [
    {
     "data": {
      "text/plain": [
       "{'S': {'S': 0.8, 'R': 0.4}, 'R': {'S': 0.2, 'R': 0.6}}"
      ]
     },
     "execution_count": 69,
     "metadata": {},
     "output_type": "execute_result"
    }
   ],
   "source": [
    "# show Transitions for each state\n",
    "T"
   ]
  },
  {
   "cell_type": "code",
   "execution_count": 70,
   "metadata": {
    "ExecuteTime": {
     "end_time": "2019-01-15T10:21:52.232597Z",
     "start_time": "2019-01-15T10:21:52.225602Z"
    }
   },
   "outputs": [],
   "source": [
    "# the sequence input\n",
    "seq = ['H', 'H', 'G', 'G', 'G', 'H']"
   ]
  },
  {
   "cell_type": "markdown",
   "metadata": {},
   "source": [
    "--- "
   ]
  },
  {
   "cell_type": "markdown",
   "metadata": {},
   "source": [
    "## Variables Initialization"
   ]
  },
  {
   "cell_type": "code",
   "execution_count": 71,
   "metadata": {
    "ExecuteTime": {
     "end_time": "2019-01-15T10:21:52.245594Z",
     "start_time": "2019-01-15T10:21:52.234600Z"
    }
   },
   "outputs": [
    {
     "data": {
      "text/plain": [
       "{0: 'S', 1: 'R'}"
      ]
     },
     "execution_count": 71,
     "metadata": {},
     "output_type": "execute_result"
    }
   ],
   "source": [
    "# make numbered dictionary of states\n",
    "n=0\n",
    "S_n = {}\n",
    "for k in S.keys():\n",
    "    S_n[n] = k\n",
    "    n +=1\n",
    "S_n"
   ]
  },
  {
   "cell_type": "code",
   "execution_count": 72,
   "metadata": {
    "ExecuteTime": {
     "end_time": "2019-01-15T10:21:52.258596Z",
     "start_time": "2019-01-15T10:21:52.247602Z"
    }
   },
   "outputs": [
    {
     "data": {
      "text/plain": [
       "array([[0.53333333, 0.        , 0.        , 0.        , 0.        ,\n",
       "        0.        ],\n",
       "       [0.13333333, 0.        , 0.        , 0.        , 0.        ,\n",
       "        0.        ]])"
      ]
     },
     "execution_count": 72,
     "metadata": {},
     "output_type": "execute_result"
    }
   ],
   "source": [
    "# initialize predection array\n",
    "pred_arr = np.zeros([len(S), len(seq)])\n",
    "ini_val = []\n",
    "for k1, v1 in S.items():\n",
    "    stat_val = initial_states[k1]\n",
    "    for k2, v2 in v1.items():\n",
    "        if k2 == seq[0]:\n",
    "            ini_val.append(v2*stat_val)\n",
    "ini_val\n",
    "pred_arr[:, 0] = np.array(ini_val)\n",
    "pred_arr"
   ]
  },
  {
   "cell_type": "markdown",
   "metadata": {},
   "source": [
    "## Viterbi Algorithm"
   ]
  },
  {
   "cell_type": "code",
   "execution_count": 73,
   "metadata": {
    "ExecuteTime": {
     "end_time": "2019-01-15T10:21:52.271601Z",
     "start_time": "2019-01-15T10:21:52.260601Z"
    },
    "scrolled": true
   },
   "outputs": [
    {
     "data": {
      "text/plain": [
       "array([[0.53333333, 0.34133333, 0.05461333, 0.00873813, 0.0013981 ,\n",
       "        0.00169869],\n",
       "       [0.13333333, 0.04266667, 0.04096   , 0.0147456 , 0.00530842,\n",
       "        0.00127402]])"
      ]
     },
     "execution_count": 73,
     "metadata": {},
     "output_type": "execute_result"
    }
   ],
   "source": [
    "\n",
    "for i in range(1, pred_arr.shape[1]):\n",
    "#     ipdb.set_trace()\n",
    "    # a: is the matrix of previos state probabilities\n",
    "    a = pred_arr[:, i-1].reshape(-1, 1)\n",
    "    for j in range(pred_arr.shape[0]):\n",
    "        # b: is the matrix of Transition prob from previous state to current state\n",
    "        b = np.array(list(T[S_n[j]].values())).reshape(-1, 1)\n",
    "        # c: is the matrix of Emission prob for each state\n",
    "        c = S[S_n[j]][seq[i]]*np.ones((2,1))\n",
    "        pred_arr[j, i] = max(a*b*c)[0]\n",
    "pred_arr"
   ]
  },
  {
   "cell_type": "code",
   "execution_count": 74,
   "metadata": {
    "ExecuteTime": {
     "end_time": "2019-01-15T10:21:52.286595Z",
     "start_time": "2019-01-15T10:21:52.276594Z"
    }
   },
   "outputs": [
    {
     "data": {
      "text/plain": [
       "[0, 0, 0, 1, 1, 0]"
      ]
     },
     "execution_count": 74,
     "metadata": {},
     "output_type": "execute_result"
    }
   ],
   "source": [
    "pred = list(pred_arr.argmax(axis=0))\n",
    "pred"
   ]
  },
  {
   "cell_type": "code",
   "execution_count": 75,
   "metadata": {
    "ExecuteTime": {
     "end_time": "2019-01-15T10:21:52.297596Z",
     "start_time": "2019-01-15T10:21:52.289601Z"
    }
   },
   "outputs": [
    {
     "name": "stdout",
     "output_type": "stream",
     "text": [
      "sequence: ['H', 'H', 'G', 'G', 'G', 'H']\n",
      "hmm pred: [0, 0, 0, 1, 1, 0]\n"
     ]
    }
   ],
   "source": [
    "print (\"sequence: {}\".format(seq))\n",
    "print (\"hmm pred: {}\".format(pred))"
   ]
  }
 ],
 "metadata": {
  "gist": {
   "data": {
    "description": "Hiden Markov Model [HMM].ipynb",
    "public": true
   },
   "id": ""
  },
  "kernelspec": {
   "display_name": "Python 3",
   "language": "python",
   "name": "python3"
  },
  "language_info": {
   "codemirror_mode": {
    "name": "ipython",
    "version": 3
   },
   "file_extension": ".py",
   "mimetype": "text/x-python",
   "name": "python",
   "nbconvert_exporter": "python",
   "pygments_lexer": "ipython3",
   "version": "3.6.7"
  },
  "toc": {
   "base_numbering": 1,
   "nav_menu": {},
   "number_sections": true,
   "sideBar": true,
   "skip_h1_title": false,
   "title_cell": "Table of Contents",
   "title_sidebar": "Contents",
   "toc_cell": false,
   "toc_position": {},
   "toc_section_display": true,
   "toc_window_display": false
  },
  "varInspector": {
   "cols": {
    "lenName": 16,
    "lenType": 16,
    "lenVar": 40
   },
   "kernels_config": {
    "python": {
     "delete_cmd_postfix": "",
     "delete_cmd_prefix": "del ",
     "library": "var_list.py",
     "varRefreshCmd": "print(var_dic_list())"
    },
    "r": {
     "delete_cmd_postfix": ") ",
     "delete_cmd_prefix": "rm(",
     "library": "var_list.r",
     "varRefreshCmd": "cat(var_dic_list()) "
    }
   },
   "position": {
    "height": "144.683px",
    "left": "1176px",
    "right": "14px",
    "top": "73px",
    "width": "350px"
   },
   "types_to_exclude": [
    "module",
    "function",
    "builtin_function_or_method",
    "instance",
    "_Feature"
   ],
   "window_display": true
  }
 },
 "nbformat": 4,
 "nbformat_minor": 2
}
